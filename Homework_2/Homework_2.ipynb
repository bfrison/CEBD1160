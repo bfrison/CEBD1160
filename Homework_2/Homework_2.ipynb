{
 "cells": [
  {
   "cell_type": "code",
   "execution_count": 1,
   "metadata": {},
   "outputs": [
    {
     "data": {
      "text/plain": [
       "int"
      ]
     },
     "execution_count": 1,
     "metadata": {},
     "output_type": "execute_result"
    }
   ],
   "source": [
    "# Basic 1.\n",
    "type(1)"
   ]
  },
  {
   "cell_type": "code",
   "execution_count": 2,
   "metadata": {},
   "outputs": [
    {
     "data": {
      "text/plain": [
       "float"
      ]
     },
     "execution_count": 2,
     "metadata": {},
     "output_type": "execute_result"
    }
   ],
   "source": [
    "type(3.14)"
   ]
  },
  {
   "cell_type": "code",
   "execution_count": 3,
   "metadata": {},
   "outputs": [
    {
     "data": {
      "text/plain": [
       "str"
      ]
     },
     "execution_count": 3,
     "metadata": {},
     "output_type": "execute_result"
    }
   ],
   "source": [
    "type(\"Big Data!\")"
   ]
  },
  {
   "cell_type": "code",
   "execution_count": 4,
   "metadata": {},
   "outputs": [
    {
     "data": {
      "text/plain": [
       "str"
      ]
     },
     "execution_count": 4,
     "metadata": {},
     "output_type": "execute_result"
    }
   ],
   "source": [
    "type('Big Data!')"
   ]
  },
  {
   "cell_type": "code",
   "execution_count": 5,
   "metadata": {},
   "outputs": [
    {
     "data": {
      "text/plain": [
       "bool"
      ]
     },
     "execution_count": 5,
     "metadata": {},
     "output_type": "execute_result"
    }
   ],
   "source": [
    "type(True)"
   ]
  },
  {
   "cell_type": "code",
   "execution_count": 6,
   "metadata": {},
   "outputs": [
    {
     "data": {
      "text/plain": [
       "bool"
      ]
     },
     "execution_count": 6,
     "metadata": {},
     "output_type": "execute_result"
    }
   ],
   "source": [
    "type(False)"
   ]
  },
  {
   "cell_type": "code",
   "execution_count": 7,
   "metadata": {},
   "outputs": [
    {
     "data": {
      "text/plain": [
       "list"
      ]
     },
     "execution_count": 7,
     "metadata": {},
     "output_type": "execute_result"
    }
   ],
   "source": [
    "type([1,2,\"intruder\",3])"
   ]
  },
  {
   "cell_type": "code",
   "execution_count": 8,
   "metadata": {},
   "outputs": [
    {
     "name": "stdout",
     "output_type": "stream",
     "text": [
      "1\n",
      "2\n",
      "Fizz\n",
      "4\n",
      "Buzz\n",
      "Fizz\n",
      "7\n",
      "8\n",
      "Fizz\n",
      "Buzz\n",
      "11\n",
      "Fizz\n",
      "13\n",
      "14\n",
      "FizzBuzz\n",
      "16\n",
      "17\n",
      "Fizz\n",
      "19\n",
      "Buzz\n",
      "Fizz\n",
      "22\n",
      "23\n",
      "Fizz\n",
      "Buzz\n",
      "26\n",
      "Fizz\n",
      "28\n",
      "29\n",
      "FizzBuzz\n",
      "31\n",
      "32\n",
      "Fizz\n",
      "34\n",
      "Buzz\n",
      "Fizz\n",
      "37\n",
      "38\n",
      "Fizz\n",
      "Buzz\n",
      "41\n",
      "Fizz\n",
      "43\n",
      "44\n",
      "FizzBuzz\n",
      "46\n",
      "47\n",
      "Fizz\n",
      "49\n",
      "Buzz\n",
      "Fizz\n",
      "52\n",
      "53\n",
      "Fizz\n",
      "Buzz\n",
      "56\n",
      "Fizz\n",
      "58\n",
      "59\n",
      "FizzBuzz\n",
      "61\n",
      "62\n",
      "Fizz\n",
      "64\n",
      "Buzz\n",
      "Fizz\n",
      "67\n",
      "68\n",
      "Fizz\n",
      "Buzz\n",
      "71\n",
      "Fizz\n",
      "73\n",
      "74\n",
      "FizzBuzz\n",
      "76\n",
      "77\n",
      "Fizz\n",
      "79\n",
      "Buzz\n",
      "Fizz\n",
      "82\n",
      "83\n",
      "Fizz\n",
      "Buzz\n",
      "86\n",
      "Fizz\n",
      "88\n",
      "89\n",
      "FizzBuzz\n",
      "91\n",
      "92\n",
      "Fizz\n",
      "94\n",
      "Buzz\n",
      "Fizz\n",
      "97\n",
      "98\n",
      "Fizz\n",
      "Buzz\n"
     ]
    }
   ],
   "source": [
    "# 2.\n",
    "    #!/usr/bin/env python3\n",
    "    for i in range(1, 101):\n",
    "        if i % 15 == 0:\n",
    "            print('FizzBuzz')\n",
    "        elif i % 3 == 0:\n",
    "            print('Fizz')\n",
    "        elif i % 5 == 0:\n",
    "            print('Buzz')\n",
    "        else:\n",
    "            print(i)"
   ]
  },
  {
   "cell_type": "code",
   "execution_count": 9,
   "metadata": {},
   "outputs": [
    {
     "data": {
      "text/plain": [
       "3"
      ]
     },
     "execution_count": 9,
     "metadata": {},
     "output_type": "execute_result"
    }
   ],
   "source": [
    "# 3.\n",
    "max([1,2,3])"
   ]
  },
  {
   "cell_type": "code",
   "execution_count": 10,
   "metadata": {},
   "outputs": [
    {
     "data": {
      "text/plain": [
       "1"
      ]
     },
     "execution_count": 10,
     "metadata": {},
     "output_type": "execute_result"
    }
   ],
   "source": [
    "min([1,2,3])"
   ]
  },
  {
   "cell_type": "code",
   "execution_count": 11,
   "metadata": {},
   "outputs": [
    {
     "data": {
      "text/plain": [
       "233168"
      ]
     },
     "execution_count": 11,
     "metadata": {},
     "output_type": "execute_result"
    }
   ],
   "source": [
    "    sum(i for i in range(1000) if i % 3 == 0 or i % 5 == 0)"
   ]
  },
  {
   "cell_type": "code",
   "execution_count": 12,
   "metadata": {},
   "outputs": [
    {
     "name": "stdout",
     "output_type": "stream",
     "text": [
      "Please type a sentence:\n",
      "Hello World!\n",
      "Hll Wrld!\n"
     ]
    }
   ],
   "source": [
    "# 4.\n",
    "    #!/usr/bin/env python3\n",
    "    phrase = input('Please type a sentence:\\n')\n",
    "    print(''.join(letter for letter in phrase if letter.upper() not in ('A', 'E', 'I', 'O', 'U', 'Y')))"
   ]
  },
  {
   "cell_type": "code",
   "execution_count": 13,
   "metadata": {},
   "outputs": [
    {
     "name": "stdout",
     "output_type": "stream",
     "text": [
      "Please type a phrase:\n",
      "Hello World! How are you today?\n",
      "Sort alphabetically or by frequency?\n",
      "1. Alphabetically 2. By frequency\n",
      "1\n",
      "{'a': 2, 'd': 2, 'e': 2, 'h': 2, 'l': 3, 'o': 5, 'r': 2, 't': 1, 'u': 1, 'w': 2, 'y': 2}\n"
     ]
    }
   ],
   "source": [
    "# Advanced 1.\n",
    "    #!/usr/bin/env python3\n",
    "    from collections import defaultdict\n",
    "    phrase = input('Please type a phrase:\\n')\n",
    "    letters = defaultdict(int)\n",
    "    ranking = None\n",
    "    while ranking not in (1, 2):\n",
    "        try:\n",
    "            ranking = int(input('Sort alphabetically or by frequency?\\n1. '\n",
    "            'Alphabetically 2. By frequency\\n'))\n",
    "        except ValueError:\n",
    "            pass\n",
    "        if ranking not in (1, 2):\n",
    "            print('\\nPlease choose a number between 1 and 2:')\n",
    "    for letter in phrase:\n",
    "        if letter.isalpha():\n",
    "            letters[letter.lower()] += 1\n",
    "    if ranking == 1:\n",
    "        print(dict(sorted(letters.items())))\n",
    "    elif ranking == 2:\n",
    "        print(dict(sorted(\n",
    "            letters.items(),\n",
    "            key=lambda item: item[1],\n",
    "            reverse=True,\n",
    "        )))"
   ]
  },
  {
   "cell_type": "code",
   "execution_count": 14,
   "metadata": {},
   "outputs": [
    {
     "name": "stdout",
     "output_type": "stream",
     "text": [
      "Please type a phrase:\n",
      "Egg and bacon Egg, sausage and bacon Egg and Spam Egg, bacon and Spam Egg, bacon, sausage and Spam Spam, bacon, sausage and Spam Spam, egg, Spam, Spam, bacon and Spam Spam, Spam, Spam, egg and Spam Spam, Sausage, Spam, Spam, Spam, Bacon, Spam, Tomato and Spam (vinyl record) Spam, Spam, Spam, Spam, Spam, Spam, baked beans, Spam, Spam, Spam and Spam\n",
      "{'egg': 3, 'and': 10, 'bacon': 4, 'egg,': 4, 'sausage': 3, 'spam': 9, 'bacon,': 3, 'spam,': 20, 'sausage,': 1, 'tomato': 1, '(vinyl': 1, 'record)': 1, 'baked': 1, 'beans,': 1}\n"
     ]
    }
   ],
   "source": [
    "# 2.\n",
    "    #!/usr/bin/env python3\n",
    "    from collections import defaultdict\n",
    "    phrase = input('Please type a phrase:\\n')\n",
    "    words = defaultdict(int)\n",
    "    for word in phrase.split():\n",
    "        words[word.lower()] += 1\n",
    "    print(dict(words))"
   ]
  },
  {
   "cell_type": "code",
   "execution_count": 15,
   "metadata": {},
   "outputs": [
    {
     "name": "stdout",
     "output_type": "stream",
     "text": [
      "Please type a list of comma separated words:\n",
      "Spam,Spam,Spam,Spam,Spam,Spam,baked beans,Spam,Spam,Spam,Spam\n",
      "['Spam', 'baked beans']\n"
     ]
    }
   ],
   "source": [
    "# 3.\n",
    "    #!/usr/bin/env python3\n",
    "    words = input('Please type a list of comma separated words:\\n').split(',')\n",
    "    print(sorted(set(words)))"
   ]
  },
  {
   "cell_type": "code",
   "execution_count": 16,
   "metadata": {},
   "outputs": [
    {
     "name": "stdout",
     "output_type": "stream",
     "text": [
      "Please type a list of at least 4 comma separated integers:\n",
      "1,2,3,4\n",
      "Please type a second list of at least 4 comma separated integers:\n",
      "3,4,5,6\n",
      "[1, 2, 3, 4, 5, 6]\n"
     ]
    }
   ],
   "source": [
    "# Reach 1.\n",
    "    #!/usr/bin/env python3\n",
    "    # First list of integers:\n",
    "    list_1_approved = False\n",
    "    while not list_1_approved:\n",
    "        numbers = input('Please type a list of at least 4 comma separated '\n",
    "            'integers:\\n').split(',')\n",
    "        if len(numbers) > 3:\n",
    "            for number in numbers:\n",
    "                try:\n",
    "                    int(number)\n",
    "                    list_1_approved = True\n",
    "                except ValueError:\n",
    "                    print('\\nThe list must be made of integers')\n",
    "                    list_1_approved = False\n",
    "                    break\n",
    "        else:\n",
    "            print('\\nThe list must have at least 4 integers')\n",
    "    # Second list of integers:\n",
    "    list_2_approved = False\n",
    "    while not list_2_approved:\n",
    "        numbers_2 = input('Please type a second list of at least 4 comma '\n",
    "            'separated integers:\\n').split(',')\n",
    "        if len(numbers_2) > 3:\n",
    "            for number in numbers_2:\n",
    "                try:\n",
    "                    int(number)\n",
    "                    list_2_approved = True\n",
    "                except ValueError:\n",
    "                    print('\\nThe list must be made of integers')\n",
    "                    list_2_approved = False\n",
    "                    break\n",
    "        else:\n",
    "            print('\\nThe list must have at least 4 integers')\n",
    "\n",
    "    numbers_set = set([int(number) for number in numbers] \\\n",
    "        + [int(number) for number in numbers_2])\n",
    "    print(sorted(numbers_set))"
   ]
  },
  {
   "cell_type": "code",
   "execution_count": 17,
   "metadata": {},
   "outputs": [
    {
     "name": "stdout",
     "output_type": "stream",
     "text": [
      "Please type a list of at least 4 comma separated integers:\n",
      "5,7,15,35,29\n",
      "Please type a second list of at least 4 comma separated integers:\n",
      "31,60,120,119\n",
      "[5, 7]\n"
     ]
    }
   ],
   "source": [
    "# 2.\n",
    "    #!/usr/bin/env python3\n",
    "    # First list of integers:\n",
    "    list_1_approved = False\n",
    "    while not list_1_approved:\n",
    "        numbers = input('Please type a list of at least 4 comma separated '\n",
    "            'integers:\\n').split(',')\n",
    "        if len(numbers) > 3:\n",
    "            for number in numbers:\n",
    "                try:\n",
    "                    int(number)\n",
    "                    list_1_approved = True\n",
    "                except ValueError:\n",
    "                    print('\\nThe list must be made of integers')\n",
    "                    list_1_approved = False\n",
    "                    break\n",
    "        else:\n",
    "            print('\\nThe list must have at least 4 integers')\n",
    "    # Second list of integers:\n",
    "    list_2_approved = False\n",
    "    while not list_2_approved:\n",
    "        numbers_2 = input('Please type a second list of at least 4 comma '\n",
    "            'separated integers:\\n').split(',')\n",
    "        if len(numbers_2) > 3:\n",
    "            for number in numbers_2:\n",
    "                try:\n",
    "                    int(number)\n",
    "                    list_2_approved = True\n",
    "                except ValueError:\n",
    "                    print('\\nThe list must be made of integers')\n",
    "                    list_2_approved = False\n",
    "                    break\n",
    "        else:\n",
    "            print('\\nThe list must have at least 4 integers')\n",
    "\n",
    "    numbers_set = set([int(number) for number in numbers] \\\n",
    "        + [int(number) for number in numbers_2])\n",
    "\n",
    "    # Source: https://www.geeksforgeeks.org/coin-change-dp-7/\n",
    "    # Returns the count of ways we can sum\n",
    "    # S[0...m-1] coins to get sum n\n",
    "    def count(S, m, n ):\n",
    "\n",
    "        # If n is 0 then there is 1\n",
    "        # solution (do not include any coin)\n",
    "        if (n == 0):\n",
    "            return 1\n",
    "\n",
    "        # If n is less than 0 then no\n",
    "        # solution exists\n",
    "        if (n < 0):\n",
    "            return 0;\n",
    "\n",
    "        # If there are no coins and n\n",
    "        # is greater than 0, then no\n",
    "        # solution exist\n",
    "        if (m <=0 and n >= 1):\n",
    "            return 0\n",
    "\n",
    "        # count is sum of solutions (i)\n",
    "        # including S[m-1] (ii) excluding S[m-1]\n",
    "        return count( S, m - 1, n ) + count( S, m, n-S[m-1] );\n",
    "\n",
    "    final_numbers_set = set()\n",
    "    for number in sorted(numbers_set):\n",
    "        if len(final_numbers_set) == 0:\n",
    "            final_numbers_set.add(number)\n",
    "        else:\n",
    "            if not count(list(final_numbers_set), len(final_numbers_set), number):\n",
    "                final_numbers_set.add(number)\n",
    "    print(sorted(final_numbers_set))"
   ]
  },
  {
   "cell_type": "code",
   "execution_count": null,
   "metadata": {},
   "outputs": [],
   "source": []
  }
 ],
 "metadata": {
  "kernelspec": {
   "display_name": "Python 3",
   "language": "python",
   "name": "python3"
  },
  "language_info": {
   "codemirror_mode": {
    "name": "ipython",
    "version": 3
   },
   "file_extension": ".py",
   "mimetype": "text/x-python",
   "name": "python",
   "nbconvert_exporter": "python",
   "pygments_lexer": "ipython3",
   "version": "3.6.8"
  }
 },
 "nbformat": 4,
 "nbformat_minor": 2
}
